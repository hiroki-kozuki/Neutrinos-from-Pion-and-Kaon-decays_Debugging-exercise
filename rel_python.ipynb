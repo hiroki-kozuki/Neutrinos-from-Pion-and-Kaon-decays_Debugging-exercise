{
 "cells": [
  {
   "cell_type": "markdown",
   "metadata": {
    "id": "BwRC0GRhlZfF"
   },
   "source": [
    "# Relativity Python mini-project: Simulation of a neutrino beam"
   ]
  },
  {
   "cell_type": "markdown",
   "metadata": {
    "id": "HctX-H4nlZfK"
   },
   "source": [
    "## 1. PARENT-PARTICLE REST FRAME\n",
    "    \n",
    "Consider a generic 2-body decay $A \\rightarrow B + C$ with masses $m_A$, $m_B$, $m_C$. You should have already thought through the physics of this in the seminar.\n",
    "\n",
    "We will consider below the specific example of decays of pions ($\\pi$), and kaons ($K$) into a lepton ($L$) and its associated neutrino ($\\nu_L$):  $\\pi$, $K \\rightarrow L+\\nu_L$.\n",
    "\n",
    "There are three types of charged lepton known and each has a corresponding neutrino - the electron $e$ and electron neutrino $\\nu_e$; their heavier analogues the muon $\\mu$ and muon neutrino $\\nu_\\mu$; and heavier still, the tau $\\tau$ and tau neutrino $\\nu_\\tau$.\n",
    "\n",
    "For the particle (rest-)masses, use the approximations:\n",
    "\\begin{align*}\n",
    "m_\\pi &= 140\\,\\text{MeV/$c^2$} \\\\\n",
    "m_K  &= 490\\,\\text{MeV/$c^2$} \\\\\n",
    "m_e &= 511\\,\\text{keV/$c^2$} \\\\\n",
    "m_{\\nu_e} &= 1.1 \\,\\text{eV/$c^2$} \\\\\n",
    "m_\\mu &= 105\\,\\text{MeV/$c^2$}\\\\\n",
    "m_{\\nu_\\mu} &= 0.19\\,\\text{MeV/$c^2$} \\\\\n",
    "m_\\tau &= 1777\\,\\text{MeV/$c^2$} \\\\\n",
    "m_{\\nu_\\tau} &= 18.2 \\,\\text{MeV/$c^2$} \\\\\n",
    "\\end{align*}\n",
    "\n",
    "In places below, we'll use the abbreviations rf refer to the rest frame (of the parent particle) and lf for the lab frame"
   ]
  },
  {
   "cell_type": "code",
   "execution_count": 2,
   "metadata": {
    "collapsed": true
   },
   "outputs": [],
   "source": [
    "#for simplicity, work with SI units for all variables, function inputs and function outputs.\n",
    "#For showing in more convenient units (MeV or MeV/c for momentum, MeV/c^2 for mass etc) \n",
    "#do a unit conversion wherever these are needed (e.g. within print statements)\n",
    "#\n",
    "#also, will avoid redefining quantities for different decays and frames\n",
    "#instead use _pi _K _rf _lf subscripts\n",
    "#should minimise likelihood of using the wrong quantity by mistake!"
   ]
  },
  {
   "cell_type": "markdown",
   "metadata": {},
   "source": [
    "### 1.1 Write a function which calculates the energy of the product particle $B$ in the rest frame of the parent particle"
   ]
  },
  {
   "cell_type": "code",
   "execution_count": 1,
   "metadata": {},
   "outputs": [],
   "source": [
    "e=1.602e-19\n",
    "\n",
    "c=3e8 #speed of light\n",
    "eM=e*1e6 #useful for converting energies from notebook units (SI) to MeV\n",
    "\n",
    "eG=eM*1e3 #useful for converting energies from notebook units (SI) to GeV\n",
    "\n",
    "def findEProd_rf(ma,mb,mc):\n",
    "    #initial mtm=0 in parent rest frame\n",
    "    #return energy in SI units for inputs in SI units\n",
    "    return c**2*(ma**2-mb**2+mc**2)/(2*ma)"
   ]
  },
  {
   "cell_type": "markdown",
   "metadata": {},
   "source": [
    "### 1.2  For the decay $\\pi, K \\rightarrow e+\\nu_e$, use the function you've just written to calculate the energy of the $\\nu_e$ in the parent-particle rest frame: Enu\\_rf\\_pi for the pion decay and Enu\\_rf\\_K for the kaon decay."
   ]
  },
  {
   "cell_type": "code",
   "execution_count": 2,
   "metadata": {},
   "outputs": [
    {
     "name": "stdout",
     "output_type": "stream",
     "text": [
      "0.069999067425  GeV\n",
      "0.24499973355000004  GeV\n"
     ]
    }
   ],
   "source": [
    "u=eG/(c**2) #convert from GeV/c^2 to notebook units (SI)\n",
    "mpi=0.140*u #units GeV; convert to notebook units (SI)\n",
    "mK=0.490*u\n",
    "me= 0.511e-3*u \n",
    "mnu_e=1.1e-9*u \n",
    "\n",
    "Enu_rf_pi=findEProd_rf(mpi,me,mnu_e) #in notebook units (SI)\n",
    "print(Enu_rf_pi/eG,' GeV')\n",
    "\n",
    "Enu_rf_K=findEProd_rf(mK,me,mnu_e)\n",
    "print(Enu_rf_K/eG,' GeV')"
   ]
  },
  {
   "cell_type": "markdown",
   "metadata": {},
   "source": [
    "### 1.3 Now for the decay $\\pi, K \\rightarrow\\mu+\\nu_\\mu$, calculate the energy of the $\\nu_\\mu$ in the parent-particle rest frame: Enu\\_rf\\_pi for the pion decay and Enu\\_rf\\_K for the kaon decay."
   ]
  },
  {
   "cell_type": "code",
   "execution_count": 3,
   "metadata": {},
   "outputs": [
    {
     "name": "stdout",
     "output_type": "stream",
     "text": [
      "-1.9908642676565003e+42  GeV\n",
      "-5.688183621875715e+41  GeV\n"
     ]
    }
   ],
   "source": [
    "mmu=0.105\n",
    "mnu=0.19e-3\n",
    "\n",
    "Enu_rf_pi=findEProd_rf(mpi,mmu,mnu)\n",
    "print(Enu_rf_pi,' GeV')\n",
    "\n",
    "Enu_rf_K=findEProd_rf(mK,mmu,mnu)  \n",
    "print(Enu_rf_K,' GeV')"
   ]
  },
  {
   "cell_type": "markdown",
   "metadata": {},
   "source": [
    "### 1.4 Finally, for the decay $\\pi, K \\rightarrow\\tau+\\nu_\\tau$,calculate the energy of the $\\nu_\\tau$ in the parent-particle rest frame: Enu\\_rf\\_pi for the pion decay and Enu\\_rf\\_K for the kaon decay."
   ]
  },
  {
   "cell_type": "code",
   "execution_count": 4,
   "metadata": {},
   "outputs": [
    {
     "name": "stdout",
     "output_type": "stream",
     "text": [
      "11.34642057142857  GeV\n",
      "-4.768888787265305e-10  GeV\n"
     ]
    }
   ],
   "source": [
    "mtau=1.777*u \n",
    "mnu_tau=18.2e-3*u\n",
    "\n",
    "Enu_rf_pi_tau=findEProd_rf(mpi,mnu_tau,mtau)/eG #in GeV - need to remember to convert back to SI later!\n",
    "print(Enu_rf_pi_tau,' GeV')\n",
    "\n",
    "Enu_rf_K_tau=findEProd_rf(mK,mtau,mnu_tau)  \n",
    "print(Enu_rf_K_tau,' GeV')"
   ]
  },
  {
   "cell_type": "markdown",
   "metadata": {},
   "source": [
    "## FROM NOW ON WE WILL STUDY JUST THE DECAY $\\rightarrow \\mu + \\nu_\\mu$ "
   ]
  },
  {
   "cell_type": "markdown",
   "metadata": {},
   "source": [
    "### 1.5 (a) Write a function to calculate the 3-momentum (again in the parent-particle rest frame) of particle $C$ as a function of its polar angle $\\theta$ with respect to the $z$-axis and azimuthal angle $\\phi$."
   ]
  },
  {
   "cell_type": "code",
   "execution_count": 5,
   "metadata": {},
   "outputs": [],
   "source": [
    "import numpy as np\n",
    "\n",
    "def find3mtmC_rf(ma,mb,mc,theta,phi): #3-momentum p of particle C \n",
    "    p=np.sqrt((findEProd_rf(ma,mb,mc)**2)/(c**2)-mc**2*c**2)\n",
    "    return p*np.array([np.sin(theta)*np.cos(phi),np.sin(theta)*np.sin(phi),np.cos(theta)])"
   ]
  },
  {
   "cell_type": "markdown",
   "metadata": {},
   "source": [
    "### 1.5. (b) Use the functions above to calculate the 3-momentum of $\\nu$ for both the $\\pi$ decay and the $K$ decay in the parent-particle rest frame, for a particular value $\\theta=30º$ and assuming the decay happens on the plane $x = 0$."
   ]
  },
  {
   "cell_type": "code",
   "execution_count": 6,
   "metadata": {},
   "outputs": [
    {
     "name": "stdout",
     "output_type": "stream",
     "text": [
      "For theta=0.167*pi:\n",
      "For pi decay: 3-mtm of nu in rf is  [6.21368373e+54 0.00000000e+00 1.07624159e+55]  MeV/c\n"
     ]
    },
    {
     "ename": "NameError",
     "evalue": "name 'p_nu_rf_K' is not defined",
     "output_type": "error",
     "traceback": [
      "\u001b[1;31m---------------------------------------------------------------------------\u001b[0m",
      "\u001b[1;31mNameError\u001b[0m                                 Traceback (most recent call last)",
      "\u001b[1;32m<ipython-input-6-a90feee271b7>\u001b[0m in \u001b[0;36m<module>\u001b[1;34m\u001b[0m\n\u001b[0;32m      5\u001b[0m \u001b[0mprint\u001b[0m\u001b[1;33m(\u001b[0m\u001b[1;34m'For theta=%.3f*pi:'\u001b[0m \u001b[1;33m%\u001b[0m \u001b[1;33m(\u001b[0m\u001b[0mtheta\u001b[0m\u001b[1;33m/\u001b[0m\u001b[0mnp\u001b[0m\u001b[1;33m.\u001b[0m\u001b[0mpi\u001b[0m\u001b[1;33m)\u001b[0m\u001b[1;33m)\u001b[0m\u001b[1;33m\u001b[0m\u001b[1;33m\u001b[0m\u001b[0m\n\u001b[0;32m      6\u001b[0m \u001b[0mprint\u001b[0m\u001b[1;33m(\u001b[0m\u001b[1;34m'For pi decay: 3-mtm of nu in rf is '\u001b[0m\u001b[1;33m,\u001b[0m\u001b[0mp_nu_rf_pi\u001b[0m\u001b[1;33m*\u001b[0m\u001b[0mc\u001b[0m\u001b[1;33m/\u001b[0m\u001b[0meM\u001b[0m\u001b[1;33m,\u001b[0m\u001b[1;34m' MeV/c'\u001b[0m\u001b[1;33m)\u001b[0m\u001b[1;33m\u001b[0m\u001b[1;33m\u001b[0m\u001b[0m\n\u001b[1;32m----> 7\u001b[1;33m \u001b[0mprint\u001b[0m\u001b[1;33m(\u001b[0m\u001b[1;34m'For K  decay: 3-mtm of nu in rf is '\u001b[0m\u001b[1;33m,\u001b[0m\u001b[0mp_nu_rf_K\u001b[0m\u001b[1;33m*\u001b[0m\u001b[0mc\u001b[0m\u001b[1;33m/\u001b[0m\u001b[0meM\u001b[0m\u001b[1;33m,\u001b[0m\u001b[1;34m' MeV/c'\u001b[0m\u001b[1;33m)\u001b[0m\u001b[1;33m\u001b[0m\u001b[1;33m\u001b[0m\u001b[0m\n\u001b[0m",
      "\u001b[1;31mNameError\u001b[0m: name 'p_nu_rf_K' is not defined"
     ]
    }
   ],
   "source": [
    "theta=np.pi/6\n",
    "phi=0\n",
    "\n",
    "p_nu_rf_pi=find3mtmC_rf(mpi,mmu,mnu,theta,phi)\n",
    "print('For theta=%.3f*pi:' % (theta/np.pi))\n",
    "print('For pi decay: 3-mtm of nu in rf is ',p_nu_rf_pi*c/eM,' MeV/c')\n",
    "print('For K  decay: 3-mtm of nu in rf is ',p_nu_rf_K*c/eM,' MeV/c')"
   ]
  },
  {
   "cell_type": "markdown",
   "metadata": {},
   "source": [
    "### 1.6 Write a function that takes as its inputs the energy and 3-momentum of a particle $C$ and returns the 4-momentum in the parent-particle rest frame."
   ]
  },
  {
   "cell_type": "code",
   "execution_count": 7,
   "metadata": {
    "scrolled": true
   },
   "outputs": [
    {
     "ename": "NameError",
     "evalue": "name 'p_nu_rf_K' is not defined",
     "output_type": "error",
     "traceback": [
      "\u001b[1;31m---------------------------------------------------------------------------\u001b[0m",
      "\u001b[1;31mNameError\u001b[0m                                 Traceback (most recent call last)",
      "\u001b[1;32m<ipython-input-7-b6f2443796f6>\u001b[0m in \u001b[0;36m<module>\u001b[1;34m\u001b[0m\n\u001b[0;32m      3\u001b[0m \u001b[1;33m\u001b[0m\u001b[0m\n\u001b[0;32m      4\u001b[0m \u001b[0mmtm4nu_rf_pi\u001b[0m\u001b[1;33m=\u001b[0m\u001b[0mfind4mtm\u001b[0m\u001b[1;33m(\u001b[0m\u001b[0mEnu_rf_pi\u001b[0m\u001b[1;33m*\u001b[0m\u001b[0meG\u001b[0m\u001b[1;33m,\u001b[0m\u001b[0mp_nu_rf_pi\u001b[0m\u001b[1;33m)\u001b[0m\u001b[1;33m*\u001b[0m\u001b[0mc\u001b[0m\u001b[1;33m\u001b[0m\u001b[1;33m\u001b[0m\u001b[0m\n\u001b[1;32m----> 5\u001b[1;33m \u001b[0mmtm4nu_rf_K\u001b[0m\u001b[1;33m=\u001b[0m\u001b[0mfind4mtm\u001b[0m\u001b[1;33m(\u001b[0m\u001b[0mEnu_rf_K\u001b[0m\u001b[1;33m*\u001b[0m\u001b[0meG\u001b[0m\u001b[1;33m,\u001b[0m\u001b[0mp_nu_rf_K\u001b[0m\u001b[1;33m)\u001b[0m\u001b[1;33m*\u001b[0m\u001b[0mc\u001b[0m\u001b[1;33m\u001b[0m\u001b[1;33m\u001b[0m\u001b[0m\n\u001b[0m\u001b[0;32m      6\u001b[0m \u001b[1;33m\u001b[0m\u001b[0m\n\u001b[0;32m      7\u001b[0m \u001b[0mprint\u001b[0m\u001b[1;33m(\u001b[0m\u001b[1;34m'For pi decay: neutrino rf 4-momentum :'\u001b[0m\u001b[1;33m,\u001b[0m\u001b[0mmtm4nu_rf_pi\u001b[0m\u001b[1;33m,\u001b[0m \u001b[1;34m' MeV/c'\u001b[0m\u001b[1;33m)\u001b[0m\u001b[1;33m\u001b[0m\u001b[1;33m\u001b[0m\u001b[0m\n",
      "\u001b[1;31mNameError\u001b[0m: name 'p_nu_rf_K' is not defined"
     ]
    }
   ],
   "source": [
    "def find4mtm(E,p): #Combine energy and 3-momentum to give four-momentum \n",
    "    return np.insert(p, 0, E/c, axis=0)\n",
    "\n",
    "mtm4nu_rf_pi=find4mtm(Enu_rf_pi*eG,p_nu_rf_pi)*c\n",
    "mtm4nu_rf_K=find4mtm(Enu_rf_K*eG,p_nu_rf_K)*c\n",
    "\n",
    "print('For pi decay: neutrino rf 4-momentum :',mtm4nu_rf_pi, ' MeV/c')\n",
    "print('For K  decay: neutrino rf 4-momentum :',mtm4nu_rf_K, ' MeV/c')"
   ]
  },
  {
   "cell_type": "markdown",
   "metadata": {},
   "source": [
    "### 1.7 Use the functions you have written to make a function find4mtm\\_C\\_rf(mA,mB,mC,theta,phi) which returns a four-element array of the four-momentum [$E/c$,$p$] of the product particle $C$ in the parent-particle rest frame in SI units ($p$ is the 3-momentum in Cartesian coordinates), where the inputs are the particle masses in SI units, and theta and phi are the angles $\\theta$ and $\\phi$ in the parent rest frame, as already described."
   ]
  },
  {
   "cell_type": "code",
   "execution_count": 8,
   "metadata": {},
   "outputs": [],
   "source": [
    "def find4mtm_C_rf(mA,mB,mC,theta1,phi1):\n",
    "    EC=findEProd_rf(mA,mB,mC)    \n",
    "    p_C=find3mtmC_rf(mA,mB,mC,theta1,phi1) #mtm of product of decay\n",
    "    return find4mtm(EC/c,p_C)"
   ]
  },
  {
   "cell_type": "markdown",
   "metadata": {},
   "source": [
    "### 1.8a Write a function for a general two-body decay that, given the 4-momentum of particles $A$ and $C$, uses 4-momentum conservation to compute the 4-momentum of particle $B$ and returns the direction of travel of particle B in spherical coordinates, ($\\theta_B,\\phi_B$)."
   ]
  },
  {
   "cell_type": "code",
   "execution_count": 9,
   "metadata": {},
   "outputs": [],
   "source": [
    "def findangleB(mtm4A,mtm4C):\n",
    "    mtm4B=mtm4A-mtm4C\n",
    "    phiB=np.arctan(mtm4B[2]/mtm4B[1])\n",
    "    pxyB=np.sqrt(mtm4B[1]**2+mtm4B[2]**2)\n",
    "    thetaB=np.arctan(pxyB/mtm4B[3])\n",
    "    return thetaB,phiB"
   ]
  },
  {
   "cell_type": "markdown",
   "metadata": {},
   "source": [
    "#### 1.8b Use this function, and the 4-momentum of the neutrino for the decay from 1.5(b) to compute the direction of travel of the generated muon in the pion rest frame.  Does this match your expectation? ***COMMENT IN YOUR DEBUGGING REPORT***"
   ]
  },
  {
   "cell_type": "code",
   "execution_count": 10,
   "metadata": {},
   "outputs": [
    {
     "name": "stdout",
     "output_type": "stream",
     "text": [
      "PION DECAY:\n",
      "muon theta  -0.16666666666666663 pi\n",
      "muon phi  -0.0 pi\n",
      "KAON DECAY:\n"
     ]
    },
    {
     "ename": "NameError",
     "evalue": "name 'mtm4nu_rf_K' is not defined",
     "output_type": "error",
     "traceback": [
      "\u001b[1;31m---------------------------------------------------------------------------\u001b[0m",
      "\u001b[1;31mNameError\u001b[0m                                 Traceback (most recent call last)",
      "\u001b[1;32m<ipython-input-10-aacc93d8737d>\u001b[0m in \u001b[0;36m<module>\u001b[1;34m\u001b[0m\n\u001b[0;32m      7\u001b[0m \u001b[0mprint\u001b[0m\u001b[1;33m(\u001b[0m\u001b[1;34m'KAON DECAY:'\u001b[0m\u001b[1;33m)\u001b[0m\u001b[1;33m\u001b[0m\u001b[1;33m\u001b[0m\u001b[0m\n\u001b[0;32m      8\u001b[0m \u001b[0mmtm4pi_rf_K\u001b[0m\u001b[1;33m=\u001b[0m\u001b[0mfind4mtm\u001b[0m\u001b[1;33m(\u001b[0m\u001b[0mmK\u001b[0m\u001b[1;33m*\u001b[0m\u001b[0mc\u001b[0m\u001b[1;33m**\u001b[0m\u001b[1;36m2\u001b[0m\u001b[1;33m,\u001b[0m\u001b[0mnp\u001b[0m\u001b[1;33m.\u001b[0m\u001b[0mzeros\u001b[0m\u001b[1;33m(\u001b[0m\u001b[1;36m3\u001b[0m\u001b[1;33m)\u001b[0m\u001b[1;33m)\u001b[0m\u001b[1;33m\u001b[0m\u001b[1;33m\u001b[0m\u001b[0m\n\u001b[1;32m----> 9\u001b[1;33m \u001b[0mtheta_K\u001b[0m\u001b[1;33m,\u001b[0m\u001b[0mphi_K\u001b[0m\u001b[1;33m=\u001b[0m\u001b[0mfindangleB\u001b[0m\u001b[1;33m(\u001b[0m\u001b[0mmtm4pi_rf_K\u001b[0m\u001b[1;33m,\u001b[0m\u001b[0mmtm4nu_rf_K\u001b[0m\u001b[1;33m)\u001b[0m\u001b[1;33m\u001b[0m\u001b[1;33m\u001b[0m\u001b[0m\n\u001b[0m\u001b[0;32m     10\u001b[0m \u001b[0mprint\u001b[0m\u001b[1;33m(\u001b[0m\u001b[1;34m'muon theta '\u001b[0m\u001b[1;33m,\u001b[0m\u001b[0mtheta_pi\u001b[0m\u001b[1;33m/\u001b[0m\u001b[0mnp\u001b[0m\u001b[1;33m.\u001b[0m\u001b[0mpi\u001b[0m\u001b[1;33m,\u001b[0m\u001b[1;34m'pi'\u001b[0m\u001b[1;33m)\u001b[0m\u001b[1;33m\u001b[0m\u001b[1;33m\u001b[0m\u001b[0m\n\u001b[0;32m     11\u001b[0m \u001b[0mprint\u001b[0m\u001b[1;33m(\u001b[0m\u001b[1;34m'muon phi '\u001b[0m\u001b[1;33m,\u001b[0m\u001b[0mphi_pi\u001b[0m\u001b[1;33m/\u001b[0m\u001b[0mnp\u001b[0m\u001b[1;33m.\u001b[0m\u001b[0mpi\u001b[0m\u001b[1;33m,\u001b[0m\u001b[1;34m'pi'\u001b[0m\u001b[1;33m)\u001b[0m\u001b[1;33m\u001b[0m\u001b[1;33m\u001b[0m\u001b[0m\n",
      "\u001b[1;31mNameError\u001b[0m: name 'mtm4nu_rf_K' is not defined"
     ]
    }
   ],
   "source": [
    "print('PION DECAY:')\n",
    "mtm4pi_rf_pi=find4mtm(mpi*c**2,np.zeros(3))\n",
    "theta_pi,phi_pi=findangleB(mtm4pi_rf_pi,mtm4nu_rf_pi)\n",
    "print('muon theta ',theta_pi/np.pi,'pi')\n",
    "print('muon phi ',phi_pi/np.pi,'pi')\n",
    "\n",
    "print('KAON DECAY:')\n",
    "mtm4pi_rf_K=find4mtm(mK*c**2,np.zeros(3))\n",
    "theta_K,phi_K=findangleB(mtm4pi_rf_K,mtm4nu_rf_K)\n",
    "print('muon theta ',theta_pi/np.pi,'pi')\n",
    "print('muon phi ',phi_pi/np.pi,'pi')"
   ]
  },
  {
   "cell_type": "markdown",
   "metadata": {},
   "source": [
    "## 2. LAB FRAME\n",
    "Now let's think about the same quantities you've just been considering, this time in the lab frame."
   ]
  },
  {
   "cell_type": "markdown",
   "metadata": {},
   "source": [
    "### 2.0(a) For a *general* particle with a certain mass and energy in a particular frame, write a function which finds the value of $\\beta = v/c$ and another that returns $\\gamma$ for the particle in that frame."
   ]
  },
  {
   "cell_type": "code",
   "execution_count": null,
   "metadata": {
    "collapsed": true
   },
   "outputs": [],
   "source": [
    "def findbeta(E,m):\n",
    "    v = np.sqrt(2*E/m) # use kinetic energy to compute v\n",
    "    return -v/c\n",
    "\n",
    "def findgamma(beta):\n",
    "    return 1/np.sqrt(1-beta**2)"
   ]
  },
  {
   "cell_type": "markdown",
   "metadata": {},
   "source": [
    "### We'll now assume that the $\\pi$ and $K$ are travelling in the lab frame with energy 1 GeV in direction $+z$.\n",
    "\n",
    "### 2.0(b) Consider separately the decays of the K particle and the $\\pi$ particle. For each decay, calculate the value of  $\\beta$  *of the lab frame* as seen by the parent-particle rest frame."
   ]
  },
  {
   "cell_type": "code",
   "execution_count": null,
   "metadata": {
    "collapsed": true
   },
   "outputs": [],
   "source": [
    "EA_lf_pi=1e9*e #1GeV convert to SI\n",
    "EA_lf_K=1e9*e #1GeV convert to SI\n",
    "beta_lf_pi=-findbeta(EA_lf_pi,mpi)\n",
    "beta_lf_K=-findbeta(EA_lf_K,mK)\n",
    "print('beta of lab from pi rest frame is ',beta_lf_pi)\n",
    "print('gamma of lab from pi rest frame is ',findgamma(beta_lf_pi))\n",
    "print('beta of lab from K rest frame is ',beta_lf_K)\n",
    "print('gamma of lab from K rest frame is ',findgamma(beta_lf_K))"
   ]
  },
  {
   "cell_type": "markdown",
   "metadata": {},
   "source": [
    "### 2.0(c) Assuming that the pion and kaon lifetimes $t_{rf}$ observed in their rest frames are $2.6·10^{-8} s$ and  $1.2·10^{-8} s$, respectively, compute their lifetime in the lab frame $t_{lf}$."
   ]
  },
  {
   "cell_type": "code",
   "execution_count": null,
   "metadata": {
    "collapsed": true
   },
   "outputs": [],
   "source": [
    "tau_rf_pi = 2.6e-8\n",
    "tau_lf_pi = tau_rf_pi/(1-beta_lf_pi**2)\n",
    "print('Pi lifetime (in s) in rf:', tau_rf_pi)\n",
    "print('Pi lifetime (in s) in lf:', tau_lf_pi)\n",
    "\n",
    "tau_rf_K = 1.2e-8 \n",
    "tau_lf_K = tau_rf_K/(1-beta_lf_K**2)\n",
    "print('K lifetime (in s) in rf:', tau_rf_K)\n",
    "print('K lifetime (in s) in lf:', tau_lf_K)"
   ]
  },
  {
   "cell_type": "markdown",
   "metadata": {},
   "source": [
    "### 2.0(d) Generalise this to considering other pion and kaon energies: compute the ratio $t_{lf}/t_{rf}$ for a range of realistic values of $\\beta$"
   ]
  },
  {
   "cell_type": "code",
   "execution_count": null,
   "metadata": {
    "collapsed": true
   },
   "outputs": [],
   "source": [
    "import matplotlib.pyplot as plt\n",
    "beta_range = np.linspace(-1, 1, 100)\n",
    "ratio = np.sqrt(1-beta_range**2)\n",
    "plt.plot(beta_range, ratio)\n",
    "plt.xlabel(r'$\\beta$', fontsize=22)\n",
    "plt.ylabel(r'$\\frac{t_{lf}}{t_{rf}}$', fontsize=30, rotation=0, labelpad=30)\n",
    "plt.show()"
   ]
  },
  {
   "cell_type": "markdown",
   "metadata": {},
   "source": [
    "### 2.1 For the 1GeV pi decay, consider what happens if, following the decay, the muon emits a photon in the $+z$ direction, with frequency $f_{rf}$ in the pion's rest frame:\n",
    "Identifying $f_{lf}$ as the frequency in the lab frame, calculate the ratio $r=f_{lf}/f_{rf}$.\n",
    "\n",
    "Now plot the energy of the photon in the lab frame $E_{lf}$ as a function of the energy of the photon in the pion's rest frame, $E_{rf}$, as $E_{rf}$ varies. Choose a sensible range of energies for the plot."
   ]
  },
  {
   "cell_type": "code",
   "execution_count": null,
   "metadata": {
    "collapsed": true
   },
   "outputs": [],
   "source": [
    "beta_lf_pi = -findbeta(EA_lf_pi,mpi)\n",
    "r = np.sqrt((1+beta_lf_pi)/(1-beta_lf_pi)) \n",
    "print(\"f_{lf}/f_{rf} = \", r)\n",
    "Elf = np.linspace(1, 10, 100) \n",
    "plt.plot(Elf, Elf/r)\n",
    "plt.xlabel(r'$E_{lf} (GeV)$', fontsize=24)\n",
    "plt.ylabel(r'$E_{rf} (GeV)$', fontsize=24, rotation=0, labelpad=30)\n",
    "plt.show()"
   ]
  },
  {
   "cell_type": "markdown",
   "metadata": {},
   "source": [
    "### 2.2a Write a function which allows you to boost a 4-momentum along the positive z-axis"
   ]
  },
  {
   "cell_type": "code",
   "execution_count": null,
   "metadata": {
    "collapsed": true
   },
   "outputs": [],
   "source": [
    "def boosted4mtm(m4,beta_b): #for boost along z-axis\n",
    "    gamma_b=findgamma(beta_b)\n",
    "    m4b0=gamma_b*m4[3]-beta_b*gamma_b*m4[0]\n",
    "    m4b3=gamma_b*m4[0]-beta_b*gamma_b*m4[3]\n",
    "    return np.array([m4b0,m4[1],m4[2],m4b3])"
   ]
  },
  {
   "cell_type": "markdown",
   "metadata": {},
   "source": [
    "###  2.2b Compute the velocity of the neutrino in the lab frame from the 4-momentum in the lab frame. Compare the z-component of this result with what you obtain by applying the velocity addition formula in the rest frame. "
   ]
  },
  {
   "cell_type": "code",
   "execution_count": null,
   "metadata": {
    "collapsed": true
   },
   "outputs": [],
   "source": [
    "#not sure how well this bit is going to work dealing with small neutrino masses in SI units\n",
    "#very small numbers - possibly precision problems?\n",
    "#maybe natural units would be better? \n",
    "#should be able to switch notebook to all quantities being natural units based on MeV instead of SI \n",
    "#just by setting c=1 and eM=1 at top of notebook\n",
    "#would give energy unit MeV, momentum unit MeV/c, mass unit MeV/c^2, velocity unit c\n",
    "#check this later\n",
    "\n",
    "m4_nu_rf_pi=find4mtm(Enu_rf_pi*eG,p_nu_rf_pi)\n",
    "v_nu_rf_pi = m4_nu_rf_pi[1:]/(mnu*findgamma(-beta_lf_pi)) \n",
    "vz_rf = v_nu_rf_pi[-1] # just z-component\n",
    "vz_lf = (vz_rf-beta_lf_pi*c)/(1-(beta_lf_pi*vz_rf/c))\n",
    "\n",
    "m4_nu_lf_pi=boosted4mtm(m4_nu_rf_pi,beta_lf_pi)\n",
    "v_nu_lf_pi2 = m4_nu_lf_pi[1:]/(mnu*findgamma(-beta_lf_pi)) \n",
    "print('Pi neutrino velocity lf from velocity addition', vz_lf,' m/s')\n",
    "print('Pi neutrino velocity lf from 4-mom in that frame', v_nu_lf_pi2,' m/s')\n",
    "\n",
    "# For the second parent particle\n",
    "\n",
    "m4_nu_rf_K=find4mtm(Enu_rf_K*eG,p_nu_rf_pi)\n",
    "v_nu_rf_K = m4_nu_rf_K[1:]/(mnu*findgamma(-beta_lf_K))\n",
    "vz_rf = v_nu_rf_K[-1] # just z-component\n",
    "vz_lf = (vz_rf-beta_lf_K*c)/(1-(beta_lf_K*vz_rf/c))\n",
    "\n",
    "m4_nu_lf_K=boosted4mtm(m4_nu_rf_K,beta_lf_K)\n",
    "v_nu_lf_K2 = m4_nu_lf_K[1:]/(mnu*findgamma(-beta_lf_K)) \n",
    "print('K neutrino velocity lf from velocity addition', vz_lf,' m/s')\n",
    "print('K neutrino velocity lf from 4-mom in that frame', v_nu_lf_K2,' m/s')"
   ]
  },
  {
   "cell_type": "markdown",
   "metadata": {},
   "source": [
    "###  2.2c Compute the energy-momentum invariant in the lab and rest frame."
   ]
  },
  {
   "cell_type": "code",
   "execution_count": null,
   "metadata": {
    "collapsed": true
   },
   "outputs": [],
   "source": [
    "mcheck_pi=c*np.sqrt(m4_nu_rf_pi[0]**2-m4_nu_rf_pi[1]**2-m4_nu_rf_pi[2]**2-m4_nu_rf_pi[3]**2)\n",
    "print('pi (rf): neutrino sqrt(E^2-p^2c^2)=',mcheck_pi/eM,' MeV')\n",
    "\n",
    "mcheck_pi2=c*np.sqrt(m4_nu_lf_pi[0]**2-m4_nu_lf_pi[1]**2-m4_nu_lf_pi[2]**2-m4_nu_lf_pi[3]**2)\n",
    "print('pi (lf): neutrino sqrt(E^2-p^2c^2)=',mcheck_pi2/eM,' MeV')\n",
    "\n",
    "mcheck_K=c*np.sqrt(m4_nu_rf_K[0]**2-m4_nu_rf_K[1]**2-m4_nu_rf_K[2]**2-m4_nu_rf_K[3]**2)\n",
    "print(' K (rf): neutrino sqrt(E^2-p^2c^2)=',mcheck_K/eM,' MeV')\n",
    "\n",
    "mcheck_K2=c*np.sqrt(m4_nu_lf_K[0]**2-m4_nu_lf_K[1]**2-m4_nu_lf_K[2]**2-m4_nu_lf_K[3]**2)\n",
    "print(' K (lf): neutrino sqrt(E^2-p^2c^2)=',mcheck_K2/eM,' MeV')"
   ]
  },
  {
   "cell_type": "markdown",
   "metadata": {},
   "source": [
    "### 2.2d At what angle is the neutrino travelling in the lab frame? Use the function you wrote in 1.8a to find the angle at which the muon is travelling in the lab frame. Does this match your expectation? ***COMMENT IN YOUR DEBUGGING REPORT***"
   ]
  },
  {
   "cell_type": "code",
   "execution_count": null,
   "metadata": {
    "collapsed": true
   },
   "outputs": [],
   "source": [
    "print('PION DECAY:')\n",
    "phiC_lf_pi=np.arctan2(m4_nu_lf_pi[2],m4_nu_lf_pi[1])\n",
    "thetaC_lf_pi=np.arctan2(m4_nu_lf_pi[1],m4_nu_lf_pi[3])\n",
    "\n",
    "print('neutrino theta (lf):',thetaC_lf_pi/np.pi,'pi')\n",
    "print('neutrino phi (lf):  ',phiC_lf_pi/np.pi,'pi')\n",
    "\n",
    "m4_pi_rf_pi=find4mtm(EA_lf_pi*eG,np.array([0.,0.,0.]))\n",
    "m4_pi_lf_pi=boosted4mtm(m4_pi_rf_pi,beta_lf_pi)\n",
    "theta_lf_pi, phi_lf_pi = findangleB(m4_pi_lf_pi,m4_nu_lf_pi)\n",
    "\n",
    "print('muon theta (lf):    ',theta_lf_pi/np.pi,'pi')\n",
    "print('muon phi (lf):      ',phi_lf_pi/np.pi,'pi')\n",
    "\n",
    "print('KAON DECAY:')\n",
    "phiC_lf_K=np.arctan2(m4_nu_lf_K[2],m4_nu_lf_K[1])\n",
    "thetaC_lf_K=np.arctan2(m4_nu_lf_K[1],m4_nu_lf_K[3])\n",
    "\n",
    "print('neutrino theta (lf):',thetaC_lf_K/np.pi,'pi')\n",
    "print('neutrino phi (lf):  ',phiC_lf_K/np.pi,'pi')\n",
    "\n",
    "m4_pi_rf_K=find4mtm(EA_lf_pi*eG,np.array([0.,0.,0.]))\n",
    "m4_pi_lf_K=boosted4mtm(m4_pi_rf_K,beta_lf_K)\n",
    "theta_lf_K, phi_lf_K = findangleB(m4_pi_lf_K,m4_nu_lf_K)\n",
    "\n",
    "print('muon theta (lf):    ',theta_lf_K/np.pi,'pi')\n",
    "print('muon phi (lf):      ',phi_lf_K/np.pi,'pi')"
   ]
  },
  {
   "cell_type": "markdown",
   "metadata": {},
   "source": [
    "### 2.3 Use the functions you have written to make a function find4mtm\\_C\\_lf(mA,mB,mC,theta,phi,EA) \n",
    "which returns a four-element array of the four-momentum [$E/c$,$p$] of the product particle $C$ in the lab frame, with $E/c$ and $p$ both in SI units ($p$ is the 3-momentum in Cartesian coordinates), where the inputs are the particle masses mA, mB and mC in SI units, theta and phi, the angles are the $\\theta$ and $\\phi$ already described and EA, the parent-particle energy in the lab frame in SI units."
   ]
  },
  {
   "cell_type": "code",
   "execution_count": null,
   "metadata": {
    "collapsed": true
   },
   "outputs": [],
   "source": [
    "def find4mtm_C_lf(mA,mB,mC,theta1,phi1,EA):\n",
    "    beta_lf_A=-findbeta(EA,mA)\n",
    "    m4_nu_rf_C=find4mtm_C_rf(mA,mB,mC,theta1,phi1)\n",
    "    return boosted4mtm(m4_nu_rf_C,beta_lf_A)"
   ]
  },
  {
   "cell_type": "markdown",
   "metadata": {},
   "source": [
    "### 2.4 What are the maximum and minimum values of the energy the product neutrino can have, in the lab frame, when the parent particle has energy 1 GeV? \n",
    "\n",
    "Define four variables Enu\\_lf\\_pi\\_min, Enu\\_lf\\_pi\\_max, Enu\\_lf\\_K\\_min and Enu\\_lf\\_K\\_min to contain these values, in SI units."
   ]
  },
  {
   "cell_type": "code",
   "execution_count": null,
   "metadata": {
    "collapsed": true
   },
   "outputs": [],
   "source": [
    "m4max_lf=find4mtm_C_lf(mpi,mmu,mnu,0.0,0.0,EA_lf_pi/eG)\n",
    "print('Max energy in lab frame (pi decay) [fn] is ',m4max_lf[0]*1e-3,' GeV') \n",
    "\n",
    "m4min_lf=find4mtm_C_lf(mpi,mmu,mnu,0.0,0.0,EA_lf_pi/eG)\n",
    "print('Min energy in lab frame (pi decay) [fn] is ',m4min_lf[0]*1e-3,' GeV') "
   ]
  },
  {
   "cell_type": "markdown",
   "metadata": {},
   "source": [
    "## 3. ENERGY DISTRIBUTIONS"
   ]
  },
  {
   "cell_type": "markdown",
   "metadata": {},
   "source": [
    "The purpose of this part is to simulate what you would find in a real experiment using the code previously written. By treating each decay event as a random and independent process, we hope to simulate decays in a realistic manner."
   ]
  },
  {
   "cell_type": "markdown",
   "metadata": {},
   "source": [
    "#### PRELIMINARIES \n",
    "#### Understanding the RANDOM NUMPY library"
   ]
  },
  {
   "cell_type": "code",
   "execution_count": null,
   "metadata": {
    "collapsed": true,
    "scrolled": true
   },
   "outputs": [],
   "source": [
    "import numpy as np\n",
    "\n",
    "print('A random number between 0 and 1: ',np.random.rand())\n",
    "print('A random number between 0 and 10: ',10 * np.random.rand())\n",
    "print('An array of 20 random numbers between 0 and 10:', np.random.randint(10, size=20)) "
   ]
  },
  {
   "cell_type": "markdown",
   "metadata": {},
   "source": [
    "#### What do you expect the distribution of random numbers to be like? To answer this question, we sample a sufficiently large set of numbers between 0 and 10 (both limits included) and plot the distribution of values."
   ]
  },
  {
   "cell_type": "code",
   "execution_count": null,
   "metadata": {
    "collapsed": true
   },
   "outputs": [],
   "source": [
    "## Import plotting library\n",
    "import matplotlib.pyplot as plt\n",
    "\n",
    "Ns = 10000\n",
    "random_numbers=10*np.random.rand(Ns)\n",
    "plt.plot(random_numbers,'.')\n",
    "plt.xlabel('index')\n",
    "plt.ylabel('Random number')\n",
    "plt.title('Values of random numbers in an array')\n",
    "plt.show()\n",
    "\n",
    "## Make a histogram of the list and include a horizontal line indicating the expected value  \n",
    "Nbins = 100\n",
    "plt.hist(random_numbers, bins=Nbins)\n",
    "plt.hlines(xmin=0, xmax=10, y=Ns/Nbins, color='r', label='mean')\n",
    "plt.xlabel('Random number')\n",
    "plt.ylabel('Frequency N')\n",
    "plt.title('Histogram: Distribution of random numbers in the array')\n",
    "plt.legend()\n",
    "plt.show()"
   ]
  },
  {
   "cell_type": "markdown",
   "metadata": {},
   "source": [
    "#### Sometimes you may want to generate a set of values that are not uniformly distributed, but instead some values are generated more frequently than others. There are predefined functions for some of these cases (such as for a Gaussian). For other specific cases, it may be necessary to define the function from which the sample is to be taken. In the following example, we'll demonstrate this using the $p(x)=(x/x_{max})^2$ (with $x\\leq xmax$) distribution. "
   ]
  },
  {
   "cell_type": "code",
   "execution_count": null,
   "metadata": {
    "collapsed": true,
    "scrolled": true
   },
   "outputs": [],
   "source": [
    "xmin = 0\n",
    "xmax = 3\n",
    "x_domain = [xmin, xmax] #domain of x will be xmin<=x<=xmax\n",
    "\n",
    "def distribn_normalised(x): #p(x) distribution function; max value for domain should be 1\n",
    "    return (x**2)/(xmax**2) \n",
    "\n",
    "def generate_x_array(Nevents, x_domain):\n",
    "    \"\"\"\n",
    "    This function yields an array of values of x in the interval x_domain distributed \n",
    "    according to a distribution such that f(x) dx=x^2 dx\n",
    "    The array is of length Narray\n",
    "    \"\"\"\n",
    "    xvals = []\n",
    "    lenout = 0 \n",
    "    Nchunk = Nevents #number of random variables to generate each iteration of the while loop\n",
    "    while lenout < Nevents: \n",
    "        xnew = x_domain[1] * np.random.rand(Nchunk) #generate new prospective values for x from a uniform distribution\n",
    "        y1 = np.random.rand(Nchunk) #random number between 0 and 1 will determine whether to keep each x value\n",
    "        # the frequency at which values are kept is proportional to the value of distribn_normalised\n",
    "        xvals = np.append(xvals, xnew[y1 < distribn_normalised(xnew)]) \n",
    "        lenout = len(xvals) #check whether sufficient values have been generated yet\n",
    "    return xvals[:Nevents] #return an array of the correct length\n",
    "\n",
    "Nevents = 10000\n",
    "Nbins = 100\n",
    "distribn=generate_x_array(Nevents, x_domain)\n",
    "plt.hist(distribn, bins=Nbins)\n",
    "\n",
    "#make an x^2 line for comparison\n",
    "x2=np.linspace(x_domain[0], x_domain[1], 100)\n",
    "y2=(3*Nevents/(Nbins*xmax**2))*x2**2\n",
    "#x^2 coefficient set so that (area under curve)=(bin width * Nevents) gives match to histogram\n",
    "plt.plot(x2,y2,'r--',label='$x^2$')\n",
    "\n",
    "plt.xlabel('Random number x')\n",
    "plt.ylabel('Frequency N')\n",
    "plt.legend()\n",
    "plt.title('Histogram for random values with distribution ~ $x^2$')\n",
    "plt.show()"
   ]
  },
  {
   "cell_type": "markdown",
   "metadata": {},
   "source": [
    "### 3.0(a) Now think about how to apply this to simulate $N_{events}$ particle decays: rather than assuming a single value of $\\theta$ as we have been so far, we need to generate a realistic distribution of $\\theta$ across multiple decay events. What are the allowed $\\theta_{rf}$ values for the neutrino (in the parent-particle rest frame) for each decay?  How likely is each angle $\\theta_{rf}$?  After giving it some thought, you should be able to use a modified version of the code above to generate $\\theta_{rf}$ for a series of $N_{events}$ parent-particle decay events and plot a histogram of the distribution of $\\theta_{rf}$."
   ]
  },
  {
   "cell_type": "code",
   "execution_count": null,
   "metadata": {
    "collapsed": true
   },
   "outputs": [],
   "source": [
    "def generate_theta_array(Narray=1):\n",
    "    \"\"\"\n",
    "    This function yields an array of values of theta in the interval [0; pi] distributed according\n",
    "    to the theta distribution. The array is of length Narray\n",
    "    \"\"\"\n",
    "    thetavals = []\n",
    "    lenout = 0\n",
    "    Nchunk = Narray\n",
    "    while lenout < Narray:\n",
    "        thetanew = np.pi * np.random.rand(Nchunk)\n",
    "        prob_theta = np.sin(thetanew)*thetanew #because f(theta)dtheta=theta·sin(theta)dtheta\n",
    "        norm_prob_theta = prob_theta/np.pi #normalizing factor\n",
    "        th1 = np.random.rand(Nchunk) #random number between 0 and 1 - keep this value only if less than sin(theta)\n",
    "        thetavals = np.append(thetavals, thetanew[th1 < norm_prob_theta])\n",
    "        #sin theta is in the range 0 and 1 for 0<theta<pi so no normalisation is needed.\n",
    "        lenout = len(thetavals)\n",
    "    return thetavals[:Narray]\n",
    "\n",
    "Nevents = 100000\n",
    "\n",
    "distribn = generate_theta_array(Nevents)\n",
    "plt.hist(distribn/np.pi, bins = Nbins)\n",
    "\n",
    "#make an x.sin(x) line for comparison\n",
    "x3=np.linspace(0, np.pi, 100)\n",
    "y3=(np.pi*Nevents/(3*Nbins))*np.sin(x3)*x3\n",
    "#coefficient set so that (area under curve)=(bin width * Nevents) gives match to histogram\n",
    "xpi_range = np.linspace(0, 1, 100)\n",
    "plt.plot(xpi_range, y3,'r--',label=r'$\\theta·sin(\\theta)$')\n",
    "\n",
    "plt.xlabel(r'$\\theta/\\pi$')\n",
    "plt.ylabel('N')\n",
    "plt.legend()\n",
    "plt.show()"
   ]
  },
  {
   "cell_type": "markdown",
   "metadata": {},
   "source": [
    "### 3.1(a) Calculate the distributions of neutrino energies in the lab frame as a function of $\\theta_{rf}$, for pion decays and for kaon decays, assuming parent particles with energy 1 GeV in the lab frame."
   ]
  },
  {
   "cell_type": "code",
   "execution_count": null,
   "metadata": {
    "collapsed": true
   },
   "outputs": [],
   "source": [
    "#EA_lf_pi and EA_lf_K defined earlier\n",
    "#choose some number of decay events for each type:\n",
    "Nrun_pi=5000\n",
    "Nrun_K=5000\n",
    "\n",
    "#Generate theta values using the previously defined function:\n",
    "theta_rf_pi=generate_theta_array(Nrun_pi)\n",
    "theta_rf_K=generate_theta_array(Nrun_K)            \n",
    "                                   \n",
    "# Define versions of previous functions which can handle arrays for different theta values\n",
    "def find4mtmar(Efm,pfm): #Combine energy and 3-momentum to give four-momentum\n",
    "    return np.insert(pfm, 0, Efm/c, axis=0)\n",
    "def boosted4mtmar(m4,beta_b): #for boost along z-axis when dealing with an array\n",
    "    gamma_b=findgamma(beta_b)\n",
    "    return np.array([gamma_b*m4[0,:]-beta_b*gamma_b*m4[3,:],m4[1,:],m4[2,:],gamma_b*m4[3,:]-beta_b*gamma_b*m4[0,:]])\n",
    "\n",
    "#calculate for pi decays first\n",
    "gamma_v_pi=(EA_lf_pi/(mpi*c**2))\n",
    "beta_v_pi= -np.sqrt(1-1/(gamma_v_pi**2)) #beta of lab frame wrt rest frame\n",
    "#find neutrino energy in lab frame\n",
    "energy_nu_lf_pi=findEProd_rf(mpi, mmu, mnu) #particle C in lab frame indpt of angle theta_rf\n",
    "energy_nu_lf_pi2 = (gamma_v_pi*energy_nu_rf_pi - beta_v_pi*gamma_v_pi*p_rf_pi_ar[2,:]*c)/(1e9*e)\n",
    "    \n",
    "#now calculate for K decays:\n",
    "gamma_v_K = (EA_lf_K/(mK*c**2))\n",
    "beta_v_K = -np.sqrt(1-1/(gamma_v_K**2)) #beta of lab frame wrt rest frame\n",
    "energy_nu_lf_K=findEProd_rf(mK,mmu,mnu) #particle C in lab frame indpt of angle theta_rf"
   ]
  },
  {
   "cell_type": "markdown",
   "metadata": {},
   "source": [
    "### 3.1(b) Find the analytical form of the dependence between the energy of the product neutrino in the lab frame, Enu_lf, and the angle $\\theta$ in the rest frame. Plot it together with the numerial results that you obtained above. "
   ]
  },
  {
   "cell_type": "code",
   "execution_count": null,
   "metadata": {
    "collapsed": true
   },
   "outputs": [],
   "source": [
    "Ean_pi = theta_rf_pi\n",
    "Ean_K = theta_rf_K\n",
    "\n",
    "plt.scatter(theta_rf_pi,energy_nu_lf_pi,label='data')\n",
    "plt.plot(theta_rf_pi,Ean_pi,'r.',label='analytic')\n",
    "plt.xlabel('theta_rf')\n",
    "plt.ylabel('Energy (GeV)')\n",
    "plt.title('neutrino energy in lf (1GeV-pion decay)')\n",
    "plt.legend()\n",
    "plt.show()\n",
    "\n",
    "plt.scatter(theta_rf_K,energy_nu_lf_K, label='data')\n",
    "plt.plot(theta_rf_K,Ean_K,'r.', label='analytic')\n",
    "plt.xlabel('theta_rf')\n",
    "plt.ylabel('Energy (GeV)')\n",
    "plt.title('neutrino energy in lf (1GeV-kaon decay)')\n",
    "plt.legend()\n",
    "plt.show()"
   ]
  },
  {
   "cell_type": "markdown",
   "metadata": {},
   "source": [
    "### 3.1(c) Create plots for both decays of the histograms of Enu_lf.  Can you explain why the plots have the shape they do? If you can, ***include this in your debugging report***."
   ]
  },
  {
   "cell_type": "code",
   "execution_count": null,
   "metadata": {
    "collapsed": true
   },
   "outputs": [],
   "source": [
    "Nbins=100\n",
    "\n",
    "(Nb_pi,binsb_pi,bbb_pi)=plt.hist(energy_nu_lf_pi, bins = Nbins)\n",
    "\n",
    "plt.ylabel('N')\n",
    "plt.xlabel('energy (GeV)')\n",
    "plt.title('Neutrino energy in lf (1GeV-pion decay)')\n",
    "plt.show()\n",
    "\n",
    "(Nb_K,binsb_K,bbb_K)=plt.hist(energy_nu_lf_K, bins = Nbins)\n",
    "\n",
    "plt.ylabel('N')\n",
    "plt.xlabel('energy (GeV)')\n",
    "plt.grid()\n",
    "plt.title('Neutrino energy in lf (1GeV-kaon decay)')\n",
    "plt.show()"
   ]
  },
  {
   "cell_type": "markdown",
   "metadata": {},
   "source": [
    "### 3.1(d) Create plots for both decays of the histograms of the angular distribution in the lab frame of the number of neutrinos. Use a log-scale for clarity. "
   ]
  },
  {
   "cell_type": "code",
   "execution_count": 1,
   "metadata": {},
   "outputs": [
    {
     "ename": "SyntaxError",
     "evalue": "invalid syntax (<ipython-input-1-055492c128d1>, line 3)",
     "output_type": "error",
     "traceback": [
      "\u001b[1;36m  File \u001b[1;32m\"<ipython-input-1-055492c128d1>\"\u001b[1;36m, line \u001b[1;32m3\u001b[0m\n\u001b[1;33m    theta_lf_K=np.arctan2(np.sqrt(m4_rf_K[1]**2+m4_rf_K[2]**2),m4_rf_K[])\u001b[0m\n\u001b[1;37m                                                                       ^\u001b[0m\n\u001b[1;31mSyntaxError\u001b[0m\u001b[1;31m:\u001b[0m invalid syntax\n"
     ]
    }
   ],
   "source": [
    "#extract theta_lf from the 4-momentum (remember the first entry is the Energy/c)\n",
    "theta_lf_pi=np.arctan2(np.sqrt(m4_rf_pi[1]**2+m4_rf_pi[2]**2),m4_rf_pi[3])\n",
    "theta_lf_K=np.arctan2(np.sqrt(m4_rf_K[1]**2+m4_rf_K[2]**2),m4_rf_K[])\n",
    "\n",
    "plt.hist(theta_lf_pi, bins = 100, log=True)\n",
    "plt.ylabel('N')\n",
    "plt.xlabel('theta(lf)')\n",
    "plt.title('Neutrino angular distribution in lf (1GeV-pion decay)')\n",
    "plt.show()\n",
    "\n",
    "plt.hist(theta_lf_K, bins = 100, log=True)\n",
    "plt.ylabel('N')\n",
    "plt.xlabel('theta (lf)')\n",
    "plt.title('Neutrino angular distribution in lf (1GeV-kaon decay)')\n",
    "plt.show()"
   ]
  },
  {
   "cell_type": "markdown",
   "metadata": {},
   "source": [
    "### 3.2 In this final part, you'll create a histogram plot of the distribution of energies of the product neutrinos in the lab frame. Start by assuming that the momenta of the $\\pi$ and $K$ beams follow a Chi-squared distribution, and that there are 10$\\times$ more $\\pi$ decays than $K$ decays in the beam.  **Note**: you can assume that the code between the === in the cell below has been checked carefully and does not contain any errors\n"
   ]
  },
  {
   "cell_type": "code",
   "execution_count": null,
   "metadata": {
    "collapsed": true
   },
   "outputs": [],
   "source": [
    "#================\n",
    "def prob_distrib(x, k=4):\n",
    "    \n",
    "    \"\"\"\n",
    "    Chi squared PDF, depends on parameters k which modulates the shape and location of distribution\n",
    "    \"\"\"\n",
    "    from scipy.special import gamma # gamma function\n",
    "    \n",
    "    if type(x) != np.ndarray:\n",
    "        if x <=0 :\n",
    "            return 0\n",
    "        else:\n",
    "            return x**(k/2-1) * np.exp(-x/2)/(2**(k/2) * gamma(k/2))\n",
    "    else:\n",
    "        x[x<=0] = 1e-40 #replace zero or negative values with \n",
    "        return  x**(k/2-1) * np.exp(-x/2)/(2**(k/2) * gamma(k/2))\n",
    "\n",
    "def max_prob(k=4):\n",
    "    \"\"\"\n",
    "    Returns the mode (the value with the highest probability of occurring) of the distribution\n",
    "    \"\"\"\n",
    "    return k-2\n",
    "\n",
    "def generate_array(x_min, x_max, k=4, Narray=5000):\n",
    "    \"\"\"\n",
    "    This function yields an array of values of x in the interval [x_min; x_max] distributed according\n",
    "    to a Chi-squared distribution as defined in chi_squared_distrib(x, k)\n",
    "    The array is of length Narray\n",
    "    \"\"\"\n",
    "    pxvals=[]\n",
    "    ymax = prob_distrib(max_prob(k), k) #maximum probability\n",
    "    lenout=0\n",
    "    Nchunk=Narray\n",
    "    while lenout<Narray:\n",
    "        px = (x_max - x_min) * np.random.rand(Nchunk) + x_min\n",
    "        py = np.random.rand(Nchunk) * ymax # probability between 0 and the maximum.\n",
    "        chix = prob_distrib(px, k) # probability for random value in [x_min and x_max]\n",
    "        pxvals=np.append(pxvals, px[chix>py])\n",
    "        lenout=len(pxvals)\n",
    "    return pxvals[:Narray]\n",
    "\n",
    "# use these values of k throughout\n",
    "k_pi = 3\n",
    "k_K  = 5 \n",
    "\n",
    "# min and max values for energy\n",
    "E_min = 0. #GeV\n",
    "E_max = 6. #GeV\n",
    "\n",
    "#================\n",
    "\n",
    "# The following code shows how to use the three functions defined above to generate a momentum distribution. \n",
    "# Note that the E_min and E_max inputs for generate_array are in GeV, not SI units, and the output is in units of GeV/c\n",
    "\n",
    "#the function takes an input argument n_samples: the number of values you want to generate in each call\n",
    "n_samples_pi = 100000\n",
    "n_samples_K = 10000\n",
    "\n",
    "#distribution of momentum values for pi decay\n",
    "mtm_distrib_E_pi=generate_array(E_min, E_max, k_pi, n_samples_pi)\n",
    "\n",
    "#distribution of momentum values for K decay (uncomment to execute)\n",
    "mtm_distrib_E_K=generate_array(E_min, E_max, k_K, n_samples_K)\n",
    "   \n",
    "plt.plot(mtm_distrib_E_pi,'.')\n",
    "plt.xlabel('index')\n",
    "plt.ylabel('p_pi (GeV/c)')\n",
    "plt.show()\n",
    "plt.close()\n",
    "\n",
    "plt.hist(mtm_distrib_E_pi, bins = 100)\n",
    "plt.xlabel('p_pi (GeV/c)')\n",
    "plt.ylabel('N')\n",
    "plt.title('Momentum distribution of pi particles')\n",
    "plt.show()"
   ]
  },
  {
   "cell_type": "markdown",
   "metadata": {},
   "source": [
    "### 3.3 In part 3.1 you generated a distribution of neutrino energies in the lab frame assuming a constant parent particle energy.  Repeat this here to plot the histogram of the energies of the product neutrinos, except this time for each decay event drawing the energy of the parent particles from the distribution you have just calculated in 3.2, as well as drawing $\\theta$ from the random distribution you used before. "
   ]
  },
  {
   "cell_type": "code",
   "execution_count": null,
   "metadata": {
    "collapsed": true
   },
   "outputs": [],
   "source": [
    "#generate distribution of parent-particle energies\n",
    "Nrun_pi = 100000\n",
    "Nrun_K = 10000\n",
    "\n",
    "#pi particles :\n",
    "EA_pi = mtm_distrib_E_pi\n",
    "#find corresponding gamma and beta\n",
    "gamma_v_pi=(EA_pi/(mpi*c**2))\n",
    "beta_v_pi=-np.sqrt(1-1/(gamma_v_pi**2)) #beta of lab frame wrt rest frame\n",
    "\n",
    "#K particles:\n",
    "EA_K = mtm_distrib_E_K\n",
    "#find corresponding gamma and beta\n",
    "gamma_v_K=(EA_K/(mK*c**2))  \n",
    "beta_v_K=-np.sqrt(1-1/(gamma_v_K**2)) #beta of lab frame wrt rest frame\n",
    "\n",
    "#theta distribution\n",
    "theta_rf_pi = 2*np.pi * np.random.rand(Nrun_pi)\n",
    "theta_rf_K = 2*np.pi * np.random.rand(Nrun_pi)\n",
    "\n",
    "# phi distribution\n",
    "phi_rf_pi = 2*np.pi * np.random.rand(Nrun_pi)\n",
    "phi_rf_K = 2*np.pi * np.random.rand(Nrun_K)\n",
    "\n",
    "#calculate for pi decays first:\n",
    "#find neutrino energy in rest frame\n",
    "energy_nu_rf_pi=findEProd_rf(mpi,mmu,mnu) #particle C in rest frame indpt of angle theta_rf\n",
    "#find neutrino 3-momentum in rest frame\n",
    "p_rf_pi_ar=find3mtmC_rf(mpi,mmu,mnu,theta_rf_pi,phi_rf_pi) #particle C (nu) in rest frame    \n",
    "#find neutrino 4-momentum in rest frame:\n",
    "m4nu_rf_pi=find4mtmar(energy_nu_rf_pi,p_rf_pi_ar)\n",
    "\n",
    "#find neutrino energy in lab frame:\n",
    "energy_nu_lf_pi=boosted4mtmar(m4nu_rf_pi, beta_v_pi)[0]*c/(1e9*e)\n",
    "energy_nu_lf_pi2=(gamma_v_pi*energy_nu_rf_pi-beta_v_pi*gamma_v_pi*p_rf_pi_ar[2,:]*c)/(1e9*e)  \n",
    "    \n",
    "#K decays\n",
    "#find neutrino energy in rest frame\n",
    "energy_nu_rf_K=findEProd_rf(mK,mmu,mnu) #particle C in rest frame indpt of angle theta_rf\n",
    "#find neutrino 3-momentum in rest frame\n",
    "p_rf_K_ar=find3mtmC_rf(mK,mmu,mnu,theta_rf_K,phi_rf_K) #particle C (nu) in rest frame    \n",
    "#find neutrino 4-momentum in rest frame:\n",
    "m4nu_rf_K=find4mtmar(energy_nu_rf_K,p_rf_K_ar)\n",
    "  \n",
    "#find neutrino energy in lab frame:\n",
    "energy_nu_lf_K=boosted4mtmar(m4nu_rf_K,beta_v_K)[0]*c/(1e9*e)"
   ]
  },
  {
   "cell_type": "markdown",
   "metadata": {},
   "source": [
    "### 3.3(b) Now plot, on a single histogram, the energy distribution in the lab frame:\n",
    "- for the $\\pi$ decays only\n",
    "- for K decays only and \n",
    "- for both decays.  \n",
    "\n",
    "Use a log scale for the energy.  ***INCLUDE THIS PLOT IN YOUR DEBUGGING REPORT***"
   ]
  },
  {
   "cell_type": "code",
   "execution_count": null,
   "metadata": {
    "collapsed": true
   },
   "outputs": [],
   "source": [
    "#combine arrays to get neutrino energies from all decays    \n",
    "energy_nu_lf=np.append(energy_nu_lf_pi,energy_nu_lf_K)\n",
    "range_energy=[min(energy_nu_lf),max(energy_nu_lf)]\n",
    "\n",
    "plt.figure()\n",
    "Nevents,bins,patches=plt.hist(energy_nu_lf, bins = 100, range=[0,6], log=True, color='c')\n",
    "plt.hist(energy_nu_rf_pi, bins=100, range=range_energy, log=True, histtype='step', linewidth=2, label='pi')\n",
    "plt.hist(energy_nu_rf_K, bins=100, range=range_energy, log=True, histtype='step', linewidth=2, label='K')\n",
    "\n",
    "plt.xlabel('Energy (GeV)')\n",
    "plt.ylabel('N events')\n",
    "plt.title('Distribution of neutrino energies in lab frame')\n",
    "plt.legend()\n",
    "plt.show()"
   ]
  },
  {
   "cell_type": "markdown",
   "metadata": {},
   "source": [
    "### Of course, in a real experiment you would measure events from both types of decay together and would have to try to differentiate afterwards. In 3.3(c) and (d), consider two quantities which might be useful for to differentiating the $\\pi$ neutrinos and the K neutrinos. Plot the distribution of these for the decay events of the two types which you've been considering.\n",
    "#### 3.3(c) The value of $\\theta_{lf}$ for the neutrino"
   ]
  },
  {
   "cell_type": "code",
   "execution_count": null,
   "metadata": {
    "collapsed": true
   },
   "outputs": [],
   "source": [
    "b4_lf_pi=boosted4mtmar(m4nu_rf_pi,beta_v_pi)\n",
    "theta_lf_pi=np.arctan2(np.sqrt(b4_lf_pi[1]**2+b4_lf_pi[2]**2),b4_lf_pi[3])\n",
    "\n",
    "b4_lf_K=boosted4mtmar(m4nu_rf_K,beta_v_K)\n",
    "theta_lf_K=np.arctan2(np.sqrt(b4_lf_K[1]**2+b4_lf_K[2]**2),b4_lf_K[3])\n",
    "\n",
    "#combine arrays to get neutrino energies from all decays    \n",
    "theta_nu_lf=np.append(theta_lf_pi,theta_lf_K)\n",
    "range_theta=[min(theta_nu_lf),max(theta_nu_lf)]\n",
    "\n",
    "plt.figure()\n",
    "Nevents,bins,patches=plt.hist(theta_nu_lf, bins = 100, range=[0,6], log=True, color='c')\n",
    "plt.hist(theta_lf_pi, bins=100, range=[0,6], log=True, histtype='step', linewidth=2, label='pi')\n",
    "plt.hist(theta_lf_K, bins=100, range=[0,6], log=True, histtype='step', linewidth=2, label='K')\n",
    "\n",
    "plt.ylim([1e0,1e5])\n",
    "plt.xlim([0,np.pi])\n",
    "plt.xlabel('theta(lf)')\n",
    "plt.ylabel('N events')\n",
    "plt.legend()\n",
    "plt.title('Angular distribution of neutrinos in lab frame')\n",
    "plt.show()"
   ]
  },
  {
   "cell_type": "markdown",
   "metadata": {},
   "source": [
    "#### 3.3(d) The energy of the neutrino at a particular $\\theta_{lf}$. Use a log-scale to represent the energies."
   ]
  },
  {
   "cell_type": "code",
   "execution_count": null,
   "metadata": {
    "collapsed": true
   },
   "outputs": [],
   "source": [
    "plt.semilogx(theta_lf_pi, energy_nu_lf_pi,'.',label='pion')\n",
    "plt.semilogx(theta_lf_K, energy_nu_lf_K,'.',label='kaon')\n",
    "\n",
    "plt.ylabel('energy (GeV)')\n",
    "plt.xlabel('theta (lf)')\n",
    "plt.title('Neutrino angular distribution in lf (1GeV parent)')\n",
    "plt.legend()\n",
    "plt.show()"
   ]
  },
  {
   "cell_type": "markdown",
   "metadata": {},
   "source": [
    "### What conclusion can you draw from 3.3(c) and 3.3(d) about whether you can infer the parent particle type (pi or K) from a detected neutrino from either or both of 3.3(c) and 3.3(d). ***INCLUDE YOUR CONCLUSION AND YOUR REASONING IN YOUR DEBUGGING REPORT. *** "
   ]
  },
  {
   "cell_type": "code",
   "execution_count": null,
   "metadata": {
    "collapsed": true
   },
   "outputs": [],
   "source": []
  }
 ],
 "metadata": {
  "kernelspec": {
   "display_name": "Python 3",
   "language": "python",
   "name": "python3"
  },
  "language_info": {
   "codemirror_mode": {
    "name": "ipython",
    "version": 3
   },
   "file_extension": ".py",
   "mimetype": "text/x-python",
   "name": "python",
   "nbconvert_exporter": "python",
   "pygments_lexer": "ipython3",
   "version": "3.8.8"
  }
 },
 "nbformat": 4,
 "nbformat_minor": 4
}
